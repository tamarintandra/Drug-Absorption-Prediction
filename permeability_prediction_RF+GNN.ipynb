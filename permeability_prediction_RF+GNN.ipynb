{
  "cells": [
    {
      "cell_type": "markdown",
      "metadata": {
        "id": "ZkTB73ciwP1I"
      },
      "source": [
        "Predicting Membrane Permeability in PAMPA Assay"
      ]
    },
    {
      "cell_type": "code",
      "execution_count": null,
      "metadata": {
        "colab": {
          "base_uri": "https://localhost:8080/"
        },
        "id": "fzUp-bh0-PsM",
        "outputId": "ace07080-b5f2-4474-cbfd-6540f61dad60"
      },
      "outputs": [
        {
          "name": "stdout",
          "output_type": "stream",
          "text": [
            "Requirement already satisfied: PyTDC in /usr/local/lib/python3.10/dist-packages (0.4.12)\n",
            "Requirement already satisfied: biopython==1.78 in /usr/local/lib/python3.10/dist-packages (from PyTDC) (1.78)\n",
            "Requirement already satisfied: dataclasses==0.6 in /usr/local/lib/python3.10/dist-packages (from PyTDC) (0.6)\n",
            "Requirement already satisfied: DeepPurpose in /usr/local/lib/python3.10/dist-packages (from PyTDC) (0.1.5)\n",
            "Requirement already satisfied: descriptastorus in /usr/local/lib/python3.10/dist-packages (from PyTDC) (2.6.1)\n",
            "Requirement already satisfied: fuzzywuzzy==0.18.0 in /usr/local/lib/python3.10/dist-packages (from PyTDC) (0.18.0)\n",
            "Requirement already satisfied: huggingface-hub==0.20.3 in /usr/local/lib/python3.10/dist-packages (from PyTDC) (0.20.3)\n",
            "Requirement already satisfied: mygene==3.2.2 in /usr/local/lib/python3.10/dist-packages (from PyTDC) (3.2.2)\n",
            "Requirement already satisfied: numpy==1.26.4 in /usr/local/lib/python3.10/dist-packages (from PyTDC) (1.26.4)\n",
            "Requirement already satisfied: openpyxl==3.0.10 in /usr/local/lib/python3.10/dist-packages (from PyTDC) (3.0.10)\n",
            "Requirement already satisfied: pandas==2.1.4 in /usr/local/lib/python3.10/dist-packages (from PyTDC) (2.1.4)\n",
            "Requirement already satisfied: requests==2.31.0 in /usr/local/lib/python3.10/dist-packages (from PyTDC) (2.31.0)\n",
            "Requirement already satisfied: scikit-learn==1.2.2 in /usr/local/lib/python3.10/dist-packages (from PyTDC) (1.2.2)\n",
            "Requirement already satisfied: seaborn==0.12.2 in /usr/local/lib/python3.10/dist-packages (from PyTDC) (0.12.2)\n",
            "Requirement already satisfied: tqdm==4.65.0 in /usr/local/lib/python3.10/dist-packages (from PyTDC) (4.65.0)\n",
            "Requirement already satisfied: cellxgene-census==1.10.2 in /usr/local/lib/python3.10/dist-packages (from PyTDC) (1.10.2)\n",
            "Requirement already satisfied: gget==0.28.4 in /usr/local/lib/python3.10/dist-packages (from PyTDC) (0.28.4)\n",
            "Requirement already satisfied: pydantic==2.6.3 in /usr/local/lib/python3.10/dist-packages (from PyTDC) (2.6.3)\n",
            "Requirement already satisfied: rdkit==2023.9.5 in /usr/local/lib/python3.10/dist-packages (from PyTDC) (2023.9.5)\n",
            "Requirement already satisfied: tiledbsoma==1.7.2 in /usr/local/lib/python3.10/dist-packages (from PyTDC) (1.7.2)\n",
            "Requirement already satisfied: yapf==0.40.2 in /usr/local/lib/python3.10/dist-packages (from PyTDC) (0.40.2)\n",
            "Requirement already satisfied: anndata in /usr/local/lib/python3.10/dist-packages (from cellxgene-census==1.10.2->PyTDC) (0.10.7)\n",
            "Requirement already satisfied: typing-extensions in /usr/local/lib/python3.10/dist-packages (from cellxgene-census==1.10.2->PyTDC) (4.11.0)\n",
            "Requirement already satisfied: s3fs>=2021.06.1 in /usr/local/lib/python3.10/dist-packages (from cellxgene-census==1.10.2->PyTDC) (2024.3.1)\n",
            "Requirement already satisfied: ipython in /usr/local/lib/python3.10/dist-packages (from gget==0.28.4->PyTDC) (7.34.0)\n",
            "Requirement already satisfied: matplotlib in /usr/local/lib/python3.10/dist-packages (from gget==0.28.4->PyTDC) (3.7.1)\n",
            "Requirement already satisfied: mysql-connector-python<=8.0.29,>=8.0.5 in /usr/local/lib/python3.10/dist-packages (from gget==0.28.4->PyTDC) (8.0.29)\n",
            "Requirement already satisfied: beautifulsoup4>=4.10.0 in /usr/local/lib/python3.10/dist-packages (from gget==0.28.4->PyTDC) (4.12.3)\n",
            "Requirement already satisfied: ipywidgets in /usr/local/lib/python3.10/dist-packages (from gget==0.28.4->PyTDC) (7.7.1)\n",
            "Requirement already satisfied: lxml in /usr/local/lib/python3.10/dist-packages (from gget==0.28.4->PyTDC) (4.9.4)\n",
            "Requirement already satisfied: filelock in /usr/local/lib/python3.10/dist-packages (from huggingface-hub==0.20.3->PyTDC) (3.13.4)\n",
            "Requirement already satisfied: fsspec>=2023.5.0 in /usr/local/lib/python3.10/dist-packages (from huggingface-hub==0.20.3->PyTDC) (2024.3.1)\n",
            "Requirement already satisfied: pyyaml>=5.1 in /usr/local/lib/python3.10/dist-packages (from huggingface-hub==0.20.3->PyTDC) (6.0.1)\n",
            "Requirement already satisfied: packaging>=20.9 in /usr/local/lib/python3.10/dist-packages (from huggingface-hub==0.20.3->PyTDC) (24.0)\n",
            "Requirement already satisfied: biothings-client>=0.2.6 in /usr/local/lib/python3.10/dist-packages (from mygene==3.2.2->PyTDC) (0.3.1)\n",
            "Requirement already satisfied: et-xmlfile in /usr/local/lib/python3.10/dist-packages (from openpyxl==3.0.10->PyTDC) (1.1.0)\n",
            "Requirement already satisfied: python-dateutil>=2.8.2 in /usr/local/lib/python3.10/dist-packages (from pandas==2.1.4->PyTDC) (2.8.2)\n",
            "Requirement already satisfied: pytz>=2020.1 in /usr/local/lib/python3.10/dist-packages (from pandas==2.1.4->PyTDC) (2023.4)\n",
            "Requirement already satisfied: tzdata>=2022.1 in /usr/local/lib/python3.10/dist-packages (from pandas==2.1.4->PyTDC) (2024.1)\n",
            "Requirement already satisfied: annotated-types>=0.4.0 in /usr/local/lib/python3.10/dist-packages (from pydantic==2.6.3->PyTDC) (0.6.0)\n",
            "Requirement already satisfied: pydantic-core==2.16.3 in /usr/local/lib/python3.10/dist-packages (from pydantic==2.6.3->PyTDC) (2.16.3)\n",
            "Requirement already satisfied: Pillow in /usr/local/lib/python3.10/dist-packages (from rdkit==2023.9.5->PyTDC) (9.4.0)\n",
            "Requirement already satisfied: charset-normalizer<4,>=2 in /usr/local/lib/python3.10/dist-packages (from requests==2.31.0->PyTDC) (3.3.2)\n",
            "Requirement already satisfied: idna<4,>=2.5 in /usr/local/lib/python3.10/dist-packages (from requests==2.31.0->PyTDC) (3.7)\n",
            "Requirement already satisfied: urllib3<3,>=1.21.1 in /usr/local/lib/python3.10/dist-packages (from requests==2.31.0->PyTDC) (2.0.7)\n",
            "Requirement already satisfied: certifi>=2017.4.17 in /usr/local/lib/python3.10/dist-packages (from requests==2.31.0->PyTDC) (2024.2.2)\n",
            "Requirement already satisfied: scipy>=1.3.2 in /usr/local/lib/python3.10/dist-packages (from scikit-learn==1.2.2->PyTDC) (1.11.4)\n",
            "Requirement already satisfied: joblib>=1.1.1 in /usr/local/lib/python3.10/dist-packages (from scikit-learn==1.2.2->PyTDC) (1.4.0)\n",
            "Requirement already satisfied: threadpoolctl>=2.0.0 in /usr/local/lib/python3.10/dist-packages (from scikit-learn==1.2.2->PyTDC) (3.4.0)\n",
            "Requirement already satisfied: attrs>=22.2 in /usr/local/lib/python3.10/dist-packages (from tiledbsoma==1.7.2->PyTDC) (23.2.0)\n",
            "Requirement already satisfied: pyarrow-hotfix in /usr/local/lib/python3.10/dist-packages (from tiledbsoma==1.7.2->PyTDC) (0.6)\n",
            "Requirement already satisfied: scanpy>=1.9.2 in /usr/local/lib/python3.10/dist-packages (from tiledbsoma==1.7.2->PyTDC) (1.9.6)\n",
            "Requirement already satisfied: somacore==1.0.7 in /usr/local/lib/python3.10/dist-packages (from tiledbsoma==1.7.2->PyTDC) (1.0.7)\n",
            "Requirement already satisfied: tiledb~=0.25.0 in /usr/local/lib/python3.10/dist-packages (from tiledbsoma==1.7.2->PyTDC) (0.25.1)\n",
            "Requirement already satisfied: pyarrow>=9.0.0 in /usr/local/lib/python3.10/dist-packages (from tiledbsoma==1.7.2->PyTDC) (14.0.2)\n",
            "Requirement already satisfied: numba>=0.58.0 in /usr/local/lib/python3.10/dist-packages (from tiledbsoma==1.7.2->PyTDC) (0.58.1)\n",
            "Requirement already satisfied: importlib-metadata>=6.6.0 in /usr/local/lib/python3.10/dist-packages (from yapf==0.40.2->PyTDC) (7.1.0)\n",
            "Requirement already satisfied: platformdirs>=3.5.1 in /usr/local/lib/python3.10/dist-packages (from yapf==0.40.2->PyTDC) (4.2.0)\n",
            "Requirement already satisfied: tomli>=2.0.1 in /usr/local/lib/python3.10/dist-packages (from yapf==0.40.2->PyTDC) (2.0.1)\n",
            "Requirement already satisfied: wget in /usr/local/lib/python3.10/dist-packages (from DeepPurpose->PyTDC) (3.2)\n",
            "Requirement already satisfied: torch in /usr/local/lib/python3.10/dist-packages (from DeepPurpose->PyTDC) (2.2.1+cu121)\n",
            "Requirement already satisfied: pandas-flavor in /usr/local/lib/python3.10/dist-packages (from DeepPurpose->PyTDC) (0.6.0)\n",
            "Requirement already satisfied: subword-nmt in /usr/local/lib/python3.10/dist-packages (from DeepPurpose->PyTDC) (0.3.8)\n",
            "Requirement already satisfied: lifelines in /usr/local/lib/python3.10/dist-packages (from DeepPurpose->PyTDC) (0.28.0)\n",
            "Requirement already satisfied: prettytable in /usr/local/lib/python3.10/dist-packages (from DeepPurpose->PyTDC) (3.10.0)\n",
            "Requirement already satisfied: tensorboard in /usr/local/lib/python3.10/dist-packages (from DeepPurpose->PyTDC) (2.15.2)\n",
            "Requirement already satisfied: ax-platform in /usr/local/lib/python3.10/dist-packages (from DeepPurpose->PyTDC) (0.3.7)\n",
            "Requirement already satisfied: dgllife in /usr/local/lib/python3.10/dist-packages (from DeepPurpose->PyTDC) (0.3.2)\n",
            "Requirement already satisfied: array-api-compat!=1.5,>1.4 in /usr/local/lib/python3.10/dist-packages (from anndata->cellxgene-census==1.10.2->PyTDC) (1.6)\n",
            "Requirement already satisfied: exceptiongroup in /usr/local/lib/python3.10/dist-packages (from anndata->cellxgene-census==1.10.2->PyTDC) (1.2.1)\n",
            "Requirement already satisfied: h5py>=3.1 in /usr/local/lib/python3.10/dist-packages (from anndata->cellxgene-census==1.10.2->PyTDC) (3.9.0)\n",
            "Requirement already satisfied: natsort in /usr/local/lib/python3.10/dist-packages (from anndata->cellxgene-census==1.10.2->PyTDC) (8.4.0)\n",
            "Requirement already satisfied: soupsieve>1.2 in /usr/local/lib/python3.10/dist-packages (from beautifulsoup4>=4.10.0->gget==0.28.4->PyTDC) (2.5)\n",
            "Requirement already satisfied: zipp>=0.5 in /usr/local/lib/python3.10/dist-packages (from importlib-metadata>=6.6.0->yapf==0.40.2->PyTDC) (3.18.1)\n",
            "Requirement already satisfied: contourpy>=1.0.1 in /usr/local/lib/python3.10/dist-packages (from matplotlib->gget==0.28.4->PyTDC) (1.2.1)\n",
            "Requirement already satisfied: cycler>=0.10 in /usr/local/lib/python3.10/dist-packages (from matplotlib->gget==0.28.4->PyTDC) (0.12.1)\n",
            "Requirement already satisfied: fonttools>=4.22.0 in /usr/local/lib/python3.10/dist-packages (from matplotlib->gget==0.28.4->PyTDC) (4.51.0)\n",
            "Requirement already satisfied: kiwisolver>=1.0.1 in /usr/local/lib/python3.10/dist-packages (from matplotlib->gget==0.28.4->PyTDC) (1.4.5)\n",
            "Requirement already satisfied: pyparsing>=2.3.1 in /usr/local/lib/python3.10/dist-packages (from matplotlib->gget==0.28.4->PyTDC) (3.1.2)\n",
            "Requirement already satisfied: protobuf>=3.0.0 in /usr/local/lib/python3.10/dist-packages (from mysql-connector-python<=8.0.29,>=8.0.5->gget==0.28.4->PyTDC) (3.20.3)\n",
            "Requirement already satisfied: llvmlite<0.42,>=0.41.0dev0 in /usr/local/lib/python3.10/dist-packages (from numba>=0.58.0->tiledbsoma==1.7.2->PyTDC) (0.41.1)\n",
            "Requirement already satisfied: six>=1.5 in /usr/local/lib/python3.10/dist-packages (from python-dateutil>=2.8.2->pandas==2.1.4->PyTDC) (1.16.0)\n",
            "Requirement already satisfied: aiobotocore<3.0.0,>=2.5.4 in /usr/local/lib/python3.10/dist-packages (from s3fs>=2021.06.1->cellxgene-census==1.10.2->PyTDC) (2.12.3)\n",
            "Requirement already satisfied: aiohttp!=4.0.0a0,!=4.0.0a1 in /usr/local/lib/python3.10/dist-packages (from s3fs>=2021.06.1->cellxgene-census==1.10.2->PyTDC) (3.9.5)\n",
            "Requirement already satisfied: networkx>=2.3 in /usr/local/lib/python3.10/dist-packages (from scanpy>=1.9.2->tiledbsoma==1.7.2->PyTDC) (3.3)\n",
            "Requirement already satisfied: patsy in /usr/local/lib/python3.10/dist-packages (from scanpy>=1.9.2->tiledbsoma==1.7.2->PyTDC) (0.5.6)\n",
            "Requirement already satisfied: session-info in /usr/local/lib/python3.10/dist-packages (from scanpy>=1.9.2->tiledbsoma==1.7.2->PyTDC) (1.0.0)\n",
            "Requirement already satisfied: statsmodels>=0.10.0rc2 in /usr/local/lib/python3.10/dist-packages (from scanpy>=1.9.2->tiledbsoma==1.7.2->PyTDC) (0.14.2)\n",
            "Requirement already satisfied: umap-learn>=0.3.10 in /usr/local/lib/python3.10/dist-packages (from scanpy>=1.9.2->tiledbsoma==1.7.2->PyTDC) (0.5.6)\n",
            "Requirement already satisfied: botorch==0.10.0 in /usr/local/lib/python3.10/dist-packages (from ax-platform->DeepPurpose->PyTDC) (0.10.0)\n",
            "Requirement already satisfied: jinja2 in /usr/local/lib/python3.10/dist-packages (from ax-platform->DeepPurpose->PyTDC) (3.1.3)\n",
            "Requirement already satisfied: plotly>=5.12.0 in /usr/local/lib/python3.10/dist-packages (from ax-platform->DeepPurpose->PyTDC) (5.15.0)\n",
            "Requirement already satisfied: typeguard in /usr/local/lib/python3.10/dist-packages (from ax-platform->DeepPurpose->PyTDC) (2.13.3)\n",
            "Requirement already satisfied: pyre-extensions in /usr/local/lib/python3.10/dist-packages (from ax-platform->DeepPurpose->PyTDC) (0.0.30)\n",
            "Requirement already satisfied: multipledispatch in /usr/local/lib/python3.10/dist-packages (from botorch==0.10.0->ax-platform->DeepPurpose->PyTDC) (1.0.0)\n",
            "Requirement already satisfied: mpmath<=1.3,>=0.19 in /usr/local/lib/python3.10/dist-packages (from botorch==0.10.0->ax-platform->DeepPurpose->PyTDC) (1.3.0)\n",
            "Requirement already satisfied: pyro-ppl>=1.8.4 in /usr/local/lib/python3.10/dist-packages (from botorch==0.10.0->ax-platform->DeepPurpose->PyTDC) (1.9.0)\n",
            "Requirement already satisfied: gpytorch==1.11 in /usr/local/lib/python3.10/dist-packages (from botorch==0.10.0->ax-platform->DeepPurpose->PyTDC) (1.11)\n",
            "Requirement already satisfied: linear-operator==0.5.1 in /usr/local/lib/python3.10/dist-packages (from botorch==0.10.0->ax-platform->DeepPurpose->PyTDC) (0.5.1)\n",
            "Requirement already satisfied: jaxtyping>=0.2.9 in /usr/local/lib/python3.10/dist-packages (from linear-operator==0.5.1->botorch==0.10.0->ax-platform->DeepPurpose->PyTDC) (0.2.28)\n",
            "Requirement already satisfied: sympy in /usr/local/lib/python3.10/dist-packages (from torch->DeepPurpose->PyTDC) (1.12)\n",
            "Requirement already satisfied: nvidia-cuda-nvrtc-cu12==12.1.105 in /usr/local/lib/python3.10/dist-packages (from torch->DeepPurpose->PyTDC) (12.1.105)\n",
            "Requirement already satisfied: nvidia-cuda-runtime-cu12==12.1.105 in /usr/local/lib/python3.10/dist-packages (from torch->DeepPurpose->PyTDC) (12.1.105)\n",
            "Requirement already satisfied: nvidia-cuda-cupti-cu12==12.1.105 in /usr/local/lib/python3.10/dist-packages (from torch->DeepPurpose->PyTDC) (12.1.105)\n",
            "Requirement already satisfied: nvidia-cudnn-cu12==8.9.2.26 in /usr/local/lib/python3.10/dist-packages (from torch->DeepPurpose->PyTDC) (8.9.2.26)\n",
            "Requirement already satisfied: nvidia-cublas-cu12==12.1.3.1 in /usr/local/lib/python3.10/dist-packages (from torch->DeepPurpose->PyTDC) (12.1.3.1)\n",
            "Requirement already satisfied: nvidia-cufft-cu12==11.0.2.54 in /usr/local/lib/python3.10/dist-packages (from torch->DeepPurpose->PyTDC) (11.0.2.54)\n",
            "Requirement already satisfied: nvidia-curand-cu12==10.3.2.106 in /usr/local/lib/python3.10/dist-packages (from torch->DeepPurpose->PyTDC) (10.3.2.106)\n",
            "Requirement already satisfied: nvidia-cusolver-cu12==11.4.5.107 in /usr/local/lib/python3.10/dist-packages (from torch->DeepPurpose->PyTDC) (11.4.5.107)\n",
            "Requirement already satisfied: nvidia-cusparse-cu12==12.1.0.106 in /usr/local/lib/python3.10/dist-packages (from torch->DeepPurpose->PyTDC) (12.1.0.106)\n",
            "Requirement already satisfied: nvidia-nccl-cu12==2.19.3 in /usr/local/lib/python3.10/dist-packages (from torch->DeepPurpose->PyTDC) (2.19.3)\n",
            "Requirement already satisfied: nvidia-nvtx-cu12==12.1.105 in /usr/local/lib/python3.10/dist-packages (from torch->DeepPurpose->PyTDC) (12.1.105)\n",
            "Requirement already satisfied: triton==2.2.0 in /usr/local/lib/python3.10/dist-packages (from torch->DeepPurpose->PyTDC) (2.2.0)\n",
            "Requirement already satisfied: nvidia-nvjitlink-cu12 in /usr/local/lib/python3.10/dist-packages (from nvidia-cusolver-cu12==11.4.5.107->torch->DeepPurpose->PyTDC) (12.4.127)\n",
            "Requirement already satisfied: hyperopt in /usr/local/lib/python3.10/dist-packages (from dgllife->DeepPurpose->PyTDC) (0.2.7)\n",
            "Requirement already satisfied: setuptools>=18.5 in /usr/local/lib/python3.10/dist-packages (from ipython->gget==0.28.4->PyTDC) (67.7.2)\n",
            "Requirement already satisfied: jedi>=0.16 in /usr/local/lib/python3.10/dist-packages (from ipython->gget==0.28.4->PyTDC) (0.19.1)\n",
            "Requirement already satisfied: decorator in /usr/local/lib/python3.10/dist-packages (from ipython->gget==0.28.4->PyTDC) (4.4.2)\n",
            "Requirement already satisfied: pickleshare in /usr/local/lib/python3.10/dist-packages (from ipython->gget==0.28.4->PyTDC) (0.7.5)\n",
            "Requirement already satisfied: traitlets>=4.2 in /usr/local/lib/python3.10/dist-packages (from ipython->gget==0.28.4->PyTDC) (5.7.1)\n",
            "Requirement already satisfied: prompt-toolkit!=3.0.0,!=3.0.1,<3.1.0,>=2.0.0 in /usr/local/lib/python3.10/dist-packages (from ipython->gget==0.28.4->PyTDC) (3.0.43)\n",
            "Requirement already satisfied: pygments in /usr/local/lib/python3.10/dist-packages (from ipython->gget==0.28.4->PyTDC) (2.16.1)\n",
            "Requirement already satisfied: backcall in /usr/local/lib/python3.10/dist-packages (from ipython->gget==0.28.4->PyTDC) (0.2.0)\n",
            "Requirement already satisfied: matplotlib-inline in /usr/local/lib/python3.10/dist-packages (from ipython->gget==0.28.4->PyTDC) (0.1.7)\n",
            "Requirement already satisfied: pexpect>4.3 in /usr/local/lib/python3.10/dist-packages (from ipython->gget==0.28.4->PyTDC) (4.9.0)\n",
            "Requirement already satisfied: ipykernel>=4.5.1 in /usr/local/lib/python3.10/dist-packages (from ipywidgets->gget==0.28.4->PyTDC) (5.5.6)\n",
            "Requirement already satisfied: ipython-genutils~=0.2.0 in /usr/local/lib/python3.10/dist-packages (from ipywidgets->gget==0.28.4->PyTDC) (0.2.0)\n",
            "Requirement already satisfied: widgetsnbextension~=3.6.0 in /usr/local/lib/python3.10/dist-packages (from ipywidgets->gget==0.28.4->PyTDC) (3.6.6)\n",
            "Requirement already satisfied: jupyterlab-widgets>=1.0.0 in /usr/local/lib/python3.10/dist-packages (from ipywidgets->gget==0.28.4->PyTDC) (3.0.10)\n",
            "Requirement already satisfied: autograd>=1.5 in /usr/local/lib/python3.10/dist-packages (from lifelines->DeepPurpose->PyTDC) (1.6.2)\n",
            "Requirement already satisfied: autograd-gamma>=0.3 in /usr/local/lib/python3.10/dist-packages (from lifelines->DeepPurpose->PyTDC) (0.5.0)\n",
            "Requirement already satisfied: formulaic>=0.2.2 in /usr/local/lib/python3.10/dist-packages (from lifelines->DeepPurpose->PyTDC) (1.0.1)\n",
            "Requirement already satisfied: xarray in /usr/local/lib/python3.10/dist-packages (from pandas-flavor->DeepPurpose->PyTDC) (2023.7.0)\n",
            "Requirement already satisfied: wcwidth in /usr/local/lib/python3.10/dist-packages (from prettytable->DeepPurpose->PyTDC) (0.2.13)\n",
            "Requirement already satisfied: mock in /usr/local/lib/python3.10/dist-packages (from subword-nmt->DeepPurpose->PyTDC) (5.1.0)\n",
            "Requirement already satisfied: absl-py>=0.4 in /usr/local/lib/python3.10/dist-packages (from tensorboard->DeepPurpose->PyTDC) (1.4.0)\n",
            "Requirement already satisfied: grpcio>=1.48.2 in /usr/local/lib/python3.10/dist-packages (from tensorboard->DeepPurpose->PyTDC) (1.62.2)\n",
            "Requirement already satisfied: google-auth<3,>=1.6.3 in /usr/local/lib/python3.10/dist-packages (from tensorboard->DeepPurpose->PyTDC) (2.27.0)\n",
            "Requirement already satisfied: google-auth-oauthlib<2,>=0.5 in /usr/local/lib/python3.10/dist-packages (from tensorboard->DeepPurpose->PyTDC) (1.2.0)\n",
            "Requirement already satisfied: markdown>=2.6.8 in /usr/local/lib/python3.10/dist-packages (from tensorboard->DeepPurpose->PyTDC) (3.6)\n",
            "Requirement already satisfied: tensorboard-data-server<0.8.0,>=0.7.0 in /usr/local/lib/python3.10/dist-packages (from tensorboard->DeepPurpose->PyTDC) (0.7.2)\n",
            "Requirement already satisfied: werkzeug>=1.0.1 in /usr/local/lib/python3.10/dist-packages (from tensorboard->DeepPurpose->PyTDC) (3.0.2)\n",
            "Requirement already satisfied: botocore<1.34.70,>=1.34.41 in /usr/local/lib/python3.10/dist-packages (from aiobotocore<3.0.0,>=2.5.4->s3fs>=2021.06.1->cellxgene-census==1.10.2->PyTDC) (1.34.69)\n",
            "Requirement already satisfied: wrapt<2.0.0,>=1.10.10 in /usr/local/lib/python3.10/dist-packages (from aiobotocore<3.0.0,>=2.5.4->s3fs>=2021.06.1->cellxgene-census==1.10.2->PyTDC) (1.14.1)\n",
            "Requirement already satisfied: aioitertools<1.0.0,>=0.5.1 in /usr/local/lib/python3.10/dist-packages (from aiobotocore<3.0.0,>=2.5.4->s3fs>=2021.06.1->cellxgene-census==1.10.2->PyTDC) (0.11.0)\n",
            "Requirement already satisfied: aiosignal>=1.1.2 in /usr/local/lib/python3.10/dist-packages (from aiohttp!=4.0.0a0,!=4.0.0a1->s3fs>=2021.06.1->cellxgene-census==1.10.2->PyTDC) (1.3.1)\n",
            "Requirement already satisfied: frozenlist>=1.1.1 in /usr/local/lib/python3.10/dist-packages (from aiohttp!=4.0.0a0,!=4.0.0a1->s3fs>=2021.06.1->cellxgene-census==1.10.2->PyTDC) (1.4.1)\n",
            "Requirement already satisfied: multidict<7.0,>=4.5 in /usr/local/lib/python3.10/dist-packages (from aiohttp!=4.0.0a0,!=4.0.0a1->s3fs>=2021.06.1->cellxgene-census==1.10.2->PyTDC) (6.0.5)\n",
            "Requirement already satisfied: yarl<2.0,>=1.0 in /usr/local/lib/python3.10/dist-packages (from aiohttp!=4.0.0a0,!=4.0.0a1->s3fs>=2021.06.1->cellxgene-census==1.10.2->PyTDC) (1.9.4)\n",
            "Requirement already satisfied: async-timeout<5.0,>=4.0 in /usr/local/lib/python3.10/dist-packages (from aiohttp!=4.0.0a0,!=4.0.0a1->s3fs>=2021.06.1->cellxgene-census==1.10.2->PyTDC) (4.0.3)\n",
            "Requirement already satisfied: future>=0.15.2 in /usr/local/lib/python3.10/dist-packages (from autograd>=1.5->lifelines->DeepPurpose->PyTDC) (0.18.3)\n",
            "Requirement already satisfied: interface-meta>=1.2.0 in /usr/local/lib/python3.10/dist-packages (from formulaic>=0.2.2->lifelines->DeepPurpose->PyTDC) (1.3.0)\n",
            "Requirement already satisfied: cachetools<6.0,>=2.0.0 in /usr/local/lib/python3.10/dist-packages (from google-auth<3,>=1.6.3->tensorboard->DeepPurpose->PyTDC) (5.3.3)\n",
            "Requirement already satisfied: pyasn1-modules>=0.2.1 in /usr/local/lib/python3.10/dist-packages (from google-auth<3,>=1.6.3->tensorboard->DeepPurpose->PyTDC) (0.4.0)\n",
            "Requirement already satisfied: rsa<5,>=3.1.4 in /usr/local/lib/python3.10/dist-packages (from google-auth<3,>=1.6.3->tensorboard->DeepPurpose->PyTDC) (4.9)\n",
            "Requirement already satisfied: requests-oauthlib>=0.7.0 in /usr/local/lib/python3.10/dist-packages (from google-auth-oauthlib<2,>=0.5->tensorboard->DeepPurpose->PyTDC) (1.3.1)\n",
            "Requirement already satisfied: jupyter-client in /usr/local/lib/python3.10/dist-packages (from ipykernel>=4.5.1->ipywidgets->gget==0.28.4->PyTDC) (6.1.12)\n",
            "Requirement already satisfied: tornado>=4.2 in /usr/local/lib/python3.10/dist-packages (from ipykernel>=4.5.1->ipywidgets->gget==0.28.4->PyTDC) (6.3.3)\n",
            "Requirement already satisfied: parso<0.9.0,>=0.8.3 in /usr/local/lib/python3.10/dist-packages (from jedi>=0.16->ipython->gget==0.28.4->PyTDC) (0.8.4)\n",
            "Requirement already satisfied: ptyprocess>=0.5 in /usr/local/lib/python3.10/dist-packages (from pexpect>4.3->ipython->gget==0.28.4->PyTDC) (0.7.0)\n",
            "Requirement already satisfied: tenacity>=6.2.0 in /usr/local/lib/python3.10/dist-packages (from plotly>=5.12.0->ax-platform->DeepPurpose->PyTDC) (8.2.3)\n",
            "Requirement already satisfied: pynndescent>=0.5 in /usr/local/lib/python3.10/dist-packages (from umap-learn>=0.3.10->scanpy>=1.9.2->tiledbsoma==1.7.2->PyTDC) (0.5.12)\n",
            "Requirement already satisfied: MarkupSafe>=2.1.1 in /usr/local/lib/python3.10/dist-packages (from werkzeug>=1.0.1->tensorboard->DeepPurpose->PyTDC) (2.1.5)\n",
            "Requirement already satisfied: notebook>=4.4.1 in /usr/local/lib/python3.10/dist-packages (from widgetsnbextension~=3.6.0->ipywidgets->gget==0.28.4->PyTDC) (6.5.5)\n",
            "Requirement already satisfied: cloudpickle in /usr/local/lib/python3.10/dist-packages (from hyperopt->dgllife->DeepPurpose->PyTDC) (2.2.1)\n",
            "Requirement already satisfied: py4j in /usr/local/lib/python3.10/dist-packages (from hyperopt->dgllife->DeepPurpose->PyTDC) (0.10.9.7)\n",
            "Requirement already satisfied: typing-inspect in /usr/local/lib/python3.10/dist-packages (from pyre-extensions->ax-platform->DeepPurpose->PyTDC) (0.9.0)\n",
            "Requirement already satisfied: stdlib-list in /usr/local/lib/python3.10/dist-packages (from session-info->scanpy>=1.9.2->tiledbsoma==1.7.2->PyTDC) (0.10.0)\n",
            "Requirement already satisfied: jmespath<2.0.0,>=0.7.1 in /usr/local/lib/python3.10/dist-packages (from botocore<1.34.70,>=1.34.41->aiobotocore<3.0.0,>=2.5.4->s3fs>=2021.06.1->cellxgene-census==1.10.2->PyTDC) (1.0.1)\n",
            "Requirement already satisfied: pyzmq<25,>=17 in /usr/local/lib/python3.10/dist-packages (from notebook>=4.4.1->widgetsnbextension~=3.6.0->ipywidgets->gget==0.28.4->PyTDC) (23.2.1)\n",
            "Requirement already satisfied: argon2-cffi in /usr/local/lib/python3.10/dist-packages (from notebook>=4.4.1->widgetsnbextension~=3.6.0->ipywidgets->gget==0.28.4->PyTDC) (23.1.0)\n",
            "Requirement already satisfied: jupyter-core>=4.6.1 in /usr/local/lib/python3.10/dist-packages (from notebook>=4.4.1->widgetsnbextension~=3.6.0->ipywidgets->gget==0.28.4->PyTDC) (5.7.2)\n",
            "Requirement already satisfied: nbformat in /usr/local/lib/python3.10/dist-packages (from notebook>=4.4.1->widgetsnbextension~=3.6.0->ipywidgets->gget==0.28.4->PyTDC) (5.10.4)\n",
            "Requirement already satisfied: nbconvert>=5 in /usr/local/lib/python3.10/dist-packages (from notebook>=4.4.1->widgetsnbextension~=3.6.0->ipywidgets->gget==0.28.4->PyTDC) (6.5.4)\n",
            "Requirement already satisfied: nest-asyncio>=1.5 in /usr/local/lib/python3.10/dist-packages (from notebook>=4.4.1->widgetsnbextension~=3.6.0->ipywidgets->gget==0.28.4->PyTDC) (1.6.0)\n",
            "Requirement already satisfied: Send2Trash>=1.8.0 in /usr/local/lib/python3.10/dist-packages (from notebook>=4.4.1->widgetsnbextension~=3.6.0->ipywidgets->gget==0.28.4->PyTDC) (1.8.3)\n",
            "Requirement already satisfied: terminado>=0.8.3 in /usr/local/lib/python3.10/dist-packages (from notebook>=4.4.1->widgetsnbextension~=3.6.0->ipywidgets->gget==0.28.4->PyTDC) (0.18.1)\n",
            "Requirement already satisfied: prometheus-client in /usr/local/lib/python3.10/dist-packages (from notebook>=4.4.1->widgetsnbextension~=3.6.0->ipywidgets->gget==0.28.4->PyTDC) (0.20.0)\n",
            "Requirement already satisfied: nbclassic>=0.4.7 in /usr/local/lib/python3.10/dist-packages (from notebook>=4.4.1->widgetsnbextension~=3.6.0->ipywidgets->gget==0.28.4->PyTDC) (1.0.0)\n",
            "Requirement already satisfied: pyasn1<0.7.0,>=0.4.6 in /usr/local/lib/python3.10/dist-packages (from pyasn1-modules>=0.2.1->google-auth<3,>=1.6.3->tensorboard->DeepPurpose->PyTDC) (0.6.0)\n",
            "Requirement already satisfied: opt-einsum>=2.3.2 in /usr/local/lib/python3.10/dist-packages (from pyro-ppl>=1.8.4->botorch==0.10.0->ax-platform->DeepPurpose->PyTDC) (3.3.0)\n",
            "Requirement already satisfied: pyro-api>=0.1.1 in /usr/local/lib/python3.10/dist-packages (from pyro-ppl>=1.8.4->botorch==0.10.0->ax-platform->DeepPurpose->PyTDC) (0.1.2)\n",
            "Requirement already satisfied: oauthlib>=3.0.0 in /usr/local/lib/python3.10/dist-packages (from requests-oauthlib>=0.7.0->google-auth-oauthlib<2,>=0.5->tensorboard->DeepPurpose->PyTDC) (3.2.2)\n",
            "Requirement already satisfied: mypy-extensions>=0.3.0 in /usr/local/lib/python3.10/dist-packages (from typing-inspect->pyre-extensions->ax-platform->DeepPurpose->PyTDC) (1.0.0)\n",
            "Requirement already satisfied: jupyter-server>=1.8 in /usr/local/lib/python3.10/dist-packages (from nbclassic>=0.4.7->notebook>=4.4.1->widgetsnbextension~=3.6.0->ipywidgets->gget==0.28.4->PyTDC) (1.24.0)\n",
            "Requirement already satisfied: notebook-shim>=0.2.3 in /usr/local/lib/python3.10/dist-packages (from nbclassic>=0.4.7->notebook>=4.4.1->widgetsnbextension~=3.6.0->ipywidgets->gget==0.28.4->PyTDC) (0.2.4)\n",
            "Requirement already satisfied: bleach in /usr/local/lib/python3.10/dist-packages (from nbconvert>=5->notebook>=4.4.1->widgetsnbextension~=3.6.0->ipywidgets->gget==0.28.4->PyTDC) (6.1.0)\n",
            "Requirement already satisfied: defusedxml in /usr/local/lib/python3.10/dist-packages (from nbconvert>=5->notebook>=4.4.1->widgetsnbextension~=3.6.0->ipywidgets->gget==0.28.4->PyTDC) (0.7.1)\n",
            "Requirement already satisfied: entrypoints>=0.2.2 in /usr/local/lib/python3.10/dist-packages (from nbconvert>=5->notebook>=4.4.1->widgetsnbextension~=3.6.0->ipywidgets->gget==0.28.4->PyTDC) (0.4)\n",
            "Requirement already satisfied: jupyterlab-pygments in /usr/local/lib/python3.10/dist-packages (from nbconvert>=5->notebook>=4.4.1->widgetsnbextension~=3.6.0->ipywidgets->gget==0.28.4->PyTDC) (0.3.0)\n",
            "Requirement already satisfied: mistune<2,>=0.8.1 in /usr/local/lib/python3.10/dist-packages (from nbconvert>=5->notebook>=4.4.1->widgetsnbextension~=3.6.0->ipywidgets->gget==0.28.4->PyTDC) (0.8.4)\n",
            "Requirement already satisfied: nbclient>=0.5.0 in /usr/local/lib/python3.10/dist-packages (from nbconvert>=5->notebook>=4.4.1->widgetsnbextension~=3.6.0->ipywidgets->gget==0.28.4->PyTDC) (0.10.0)\n",
            "Requirement already satisfied: pandocfilters>=1.4.1 in /usr/local/lib/python3.10/dist-packages (from nbconvert>=5->notebook>=4.4.1->widgetsnbextension~=3.6.0->ipywidgets->gget==0.28.4->PyTDC) (1.5.1)\n",
            "Requirement already satisfied: tinycss2 in /usr/local/lib/python3.10/dist-packages (from nbconvert>=5->notebook>=4.4.1->widgetsnbextension~=3.6.0->ipywidgets->gget==0.28.4->PyTDC) (1.2.1)\n",
            "Requirement already satisfied: fastjsonschema>=2.15 in /usr/local/lib/python3.10/dist-packages (from nbformat->notebook>=4.4.1->widgetsnbextension~=3.6.0->ipywidgets->gget==0.28.4->PyTDC) (2.19.1)\n",
            "Requirement already satisfied: jsonschema>=2.6 in /usr/local/lib/python3.10/dist-packages (from nbformat->notebook>=4.4.1->widgetsnbextension~=3.6.0->ipywidgets->gget==0.28.4->PyTDC) (4.19.2)\n",
            "Requirement already satisfied: argon2-cffi-bindings in /usr/local/lib/python3.10/dist-packages (from argon2-cffi->notebook>=4.4.1->widgetsnbextension~=3.6.0->ipywidgets->gget==0.28.4->PyTDC) (21.2.0)\n",
            "Requirement already satisfied: jsonschema-specifications>=2023.03.6 in /usr/local/lib/python3.10/dist-packages (from jsonschema>=2.6->nbformat->notebook>=4.4.1->widgetsnbextension~=3.6.0->ipywidgets->gget==0.28.4->PyTDC) (2023.12.1)\n",
            "Requirement already satisfied: referencing>=0.28.4 in /usr/local/lib/python3.10/dist-packages (from jsonschema>=2.6->nbformat->notebook>=4.4.1->widgetsnbextension~=3.6.0->ipywidgets->gget==0.28.4->PyTDC) (0.34.0)\n",
            "Requirement already satisfied: rpds-py>=0.7.1 in /usr/local/lib/python3.10/dist-packages (from jsonschema>=2.6->nbformat->notebook>=4.4.1->widgetsnbextension~=3.6.0->ipywidgets->gget==0.28.4->PyTDC) (0.18.0)\n",
            "Requirement already satisfied: anyio<4,>=3.1.0 in /usr/local/lib/python3.10/dist-packages (from jupyter-server>=1.8->nbclassic>=0.4.7->notebook>=4.4.1->widgetsnbextension~=3.6.0->ipywidgets->gget==0.28.4->PyTDC) (3.7.1)\n",
            "Requirement already satisfied: websocket-client in /usr/local/lib/python3.10/dist-packages (from jupyter-server>=1.8->nbclassic>=0.4.7->notebook>=4.4.1->widgetsnbextension~=3.6.0->ipywidgets->gget==0.28.4->PyTDC) (1.7.0)\n",
            "Requirement already satisfied: cffi>=1.0.1 in /usr/local/lib/python3.10/dist-packages (from argon2-cffi-bindings->argon2-cffi->notebook>=4.4.1->widgetsnbextension~=3.6.0->ipywidgets->gget==0.28.4->PyTDC) (1.16.0)\n",
            "Requirement already satisfied: webencodings in /usr/local/lib/python3.10/dist-packages (from bleach->nbconvert>=5->notebook>=4.4.1->widgetsnbextension~=3.6.0->ipywidgets->gget==0.28.4->PyTDC) (0.5.1)\n",
            "Requirement already satisfied: sniffio>=1.1 in /usr/local/lib/python3.10/dist-packages (from anyio<4,>=3.1.0->jupyter-server>=1.8->nbclassic>=0.4.7->notebook>=4.4.1->widgetsnbextension~=3.6.0->ipywidgets->gget==0.28.4->PyTDC) (1.3.1)\n",
            "Requirement already satisfied: pycparser in /usr/local/lib/python3.10/dist-packages (from cffi>=1.0.1->argon2-cffi-bindings->argon2-cffi->notebook>=4.4.1->widgetsnbextension~=3.6.0->ipywidgets->gget==0.28.4->PyTDC) (2.22)\n",
            "Requirement already satisfied: rdkit in /usr/local/lib/python3.10/dist-packages (2023.9.5)\n",
            "Requirement already satisfied: numpy in /usr/local/lib/python3.10/dist-packages (from rdkit) (1.26.4)\n",
            "Requirement already satisfied: Pillow in /usr/local/lib/python3.10/dist-packages (from rdkit) (9.4.0)\n"
          ]
        }
      ],
      "source": [
        "!pip install PyTDC\n",
        "!pip install rdkit"
      ]
    },
    {
      "cell_type": "code",
      "execution_count": null,
      "metadata": {
        "id": "Dz-nqaYdnW6f"
      },
      "outputs": [],
      "source": [
        "import pandas as pd\n",
        "import numpy as np\n",
        "from tdc.single_pred import ADME\n",
        "from rdkit import Chem\n",
        "from rdkit.Chem import AllChem\n",
        "from rdkit.Chem import Descriptors\n",
        "from rdkit.Chem import EState\n",
        "from rdkit.Chem import rdMolDescriptors\n",
        "from rdkit.Chem import GraphDescriptors\n",
        "from rdkit.Chem import Crippen\n",
        "from rdkit.Chem import QED"
      ]
    },
    {
      "cell_type": "code",
      "execution_count": null,
      "metadata": {
        "colab": {
          "base_uri": "https://localhost:8080/"
        },
        "id": "jfKzUl2XwEZB",
        "outputId": "a1bf6e4b-5a8c-4e04-f915-7c594ecaf1eb"
      },
      "outputs": [
        {
          "name": "stderr",
          "output_type": "stream",
          "text": [
            "Downloading...\n",
            "100%|██████████| 144k/144k [00:00<00:00, 1.64MiB/s]\n",
            "Loading...\n",
            "Done!\n"
          ]
        }
      ],
      "source": [
        "data = ADME(name = 'PAMPA_NCATS')\n",
        "split = data.get_split()"
      ]
    },
    {
      "cell_type": "code",
      "execution_count": null,
      "metadata": {
        "id": "AdGwTUOivctO"
      },
      "outputs": [],
      "source": [
        "train_df = split['train']\n",
        "valid_df = split['valid']\n",
        "test_df = split['test']"
      ]
    },
    {
      "cell_type": "code",
      "execution_count": null,
      "metadata": {
        "id": "c2NnmgIlnvFy"
      },
      "outputs": [],
      "source": [
        "def calculate_descriptors(smiles):\n",
        "    mol = Chem.MolFromSmiles(smiles)\n",
        "    descriptors = {}\n",
        "    for descriptor_name, function in Descriptors.descList:\n",
        "        descriptors[descriptor_name] = function(mol)\n",
        "    return descriptors"
      ]
    },
    {
      "cell_type": "code",
      "execution_count": null,
      "metadata": {
        "id": "VmhMupSxoh_z"
      },
      "outputs": [],
      "source": [
        "# Calculate descriptors for train, valid, and test sets\n",
        "train_df['Descriptors'] = train_df['Drug'].apply(calculate_descriptors)\n",
        "valid_df['Descriptors'] = valid_df['Drug'].apply(calculate_descriptors)\n",
        "test_df['Descriptors'] = test_df['Drug'].apply(calculate_descriptors)"
      ]
    },
    {
      "cell_type": "code",
      "execution_count": null,
      "metadata": {
        "id": "iBDktZ-FpETX"
      },
      "outputs": [],
      "source": [
        "# Prepare features and labels\n",
        "X_train = pd.DataFrame(train_df['Descriptors'].tolist())\n",
        "y_train = train_df['Y']\n",
        "\n",
        "X_valid = pd.DataFrame(valid_df['Descriptors'].tolist())\n",
        "y_valid = valid_df['Y']\n",
        "\n",
        "X_test = pd.DataFrame(test_df['Descriptors'].tolist())\n",
        "y_test = test_df['Y']"
      ]
    },
    {
      "cell_type": "code",
      "execution_count": null,
      "metadata": {
        "colab": {
          "base_uri": "https://localhost:8080/"
        },
        "id": "ZdH8Mb5JbiMI",
        "outputId": "4675072e-53c7-4e1f-bd4a-873c796dcd95"
      },
      "outputs": [
        {
          "name": "stdout",
          "output_type": "stream",
          "text": [
            "   Drug_ID                                               Drug  Y  \\\n",
            "0  1259573            COC1=C(C=C(C=C1)CCN2C(=CC(=O)NC2=S)N)OC  0   \n",
            "1  1275864  COC1=C(C=C(C=C1)Cl)C(=O)NC2=CC=C(C=C2)NC(=O)C3...  1   \n",
            "2  2030130  CN1C2=CC=CC=C2C(=O)C3=C1N=C(N(C3=O)C4=CC=CC=C4...  1   \n",
            "3  4422695  CC1=C(C=C(C=C1)NS(=O)(=O)C2=CC=CC(=C2)C(=O)O)S...  1   \n",
            "4  1131802  COC1=CC(=CC(=C1O)OC)C2=NC(=C(N2)C3=CC=CS3)C4=C...  1   \n",
            "\n",
            "                                         Descriptors  \n",
            "0  {'MaxAbsEStateIndex': 11.245651352831256, 'Max...  \n",
            "1  {'MaxAbsEStateIndex': 12.432253765537947, 'Max...  \n",
            "2  {'MaxAbsEStateIndex': 13.718748818972035, 'Max...  \n",
            "3  {'MaxAbsEStateIndex': 12.943376269393585, 'Max...  \n",
            "4  {'MaxAbsEStateIndex': 10.16924146206794, 'MaxE...  \n"
          ]
        }
      ],
      "source": [
        "print(split['train'].head())"
      ]
    },
    {
      "cell_type": "code",
      "execution_count": null,
      "metadata": {
        "colab": {
          "base_uri": "https://localhost:8080/"
        },
        "id": "i3GuzXOT6uw2",
        "outputId": "e3607690-6376-4180-e009-1f2e6bd0137e"
      },
      "outputs": [
        {
          "name": "stdout",
          "output_type": "stream",
          "text": [
            "210\n"
          ]
        }
      ],
      "source": [
        "print(len(train_df['Descriptors'][0]))"
      ]
    },
    {
      "cell_type": "code",
      "execution_count": null,
      "metadata": {
        "id": "BEg5geoXrnLu"
      },
      "outputs": [],
      "source": [
        "from sklearn.impute import SimpleImputer\n",
        "\n",
        "# Impute missing values with mean\n",
        "imputer = SimpleImputer(strategy='mean')\n",
        "X_valid_imputed = imputer.fit_transform(X_valid)\n",
        "\n",
        "# Convert X_valid_imputed to a DataFrame\n",
        "X_valid_imputed_df = pd.DataFrame(X_valid_imputed, columns=X_valid.columns)"
      ]
    },
    {
      "cell_type": "code",
      "execution_count": null,
      "metadata": {
        "id": "qmvtdBaYx7if"
      },
      "outputs": [],
      "source": [
        "# Concatenate training and validation datasets\n",
        "X_combined = pd.concat([X_train, X_valid_imputed_df], axis=0)\n",
        "y_combined = pd.concat([y_train, y_valid], axis=0)"
      ]
    },
    {
      "cell_type": "markdown",
      "metadata": {
        "id": "9wMFxG5vnuu0"
      },
      "source": [
        "Random Forest"
      ]
    },
    {
      "cell_type": "code",
      "execution_count": null,
      "metadata": {
        "id": "g5Gr2fUOsIVm"
      },
      "outputs": [],
      "source": [
        "from sklearn.ensemble import RandomForestClassifier\n",
        "from sklearn.model_selection import cross_val_score\n",
        "from sklearn.metrics import roc_auc_score, confusion_matrix, cohen_kappa_score, accuracy_score\n",
        "\n",
        "rf_classifier = RandomForestClassifier(n_estimators=200)\n",
        "\n",
        "# Perform cross-validation\n",
        "cv_scores = cross_val_score(rf_classifier, X_combined, y_combined, cv=5, scoring='accuracy')\n",
        "\n",
        "# Print cross-validation scores\n",
        "print(\"Cross-Validation Scores:\", cv_scores)\n",
        "print(\"Mean Accuracy:\", cv_scores.mean())"
      ]
    },
    {
      "cell_type": "code",
      "execution_count": null,
      "metadata": {
        "id": "J28glZRYyJxG"
      },
      "outputs": [],
      "source": [
        "# Train the model\n",
        "rf_classifier.fit(X_combined, y_combined)"
      ]
    },
    {
      "cell_type": "code",
      "execution_count": null,
      "metadata": {
        "id": "q0w7blnoocwS"
      },
      "outputs": [],
      "source": [
        "def evaluate_model(model, X, y):\n",
        "    y_pred = model.predict(X)\n",
        "    auc_roc = roc_auc_score(y, y_pred)\n",
        "    tn, fp, fn, tp = confusion_matrix(y, y_pred).ravel()\n",
        "    sensitivity = tp / (tp + fn)\n",
        "    specificity = tn / (tn + fp)\n",
        "    balanced_accuracy = (sensitivity + specificity) / 2\n",
        "    kappa = cohen_kappa_score(y, y_pred)\n",
        "    accuracy = accuracy_score(y, y_pred)\n",
        "\n",
        "    return auc_roc, sensitivity, specificity, balanced_accuracy, kappa, accuracy"
      ]
    },
    {
      "cell_type": "code",
      "execution_count": null,
      "metadata": {
        "id": "6YLlj7ORnwjb"
      },
      "outputs": [],
      "source": [
        "# Evaluate the model on test data\n",
        "auc_roc_test, sensitivity_test, specificity_test, balanced_accuracy_test, kappa_test, accuracy = evaluate_model(rf_classifier, X_test, y_test)\n",
        "print(\"\\nTest Performance:\")\n",
        "print(\"AUC-ROC:\", auc_roc_test)\n",
        "print(\"Sensitivity:\", sensitivity_test)\n",
        "print(\"Specificity:\", specificity_test)\n",
        "print(\"Balanced Accuracy:\", balanced_accuracy_test)\n",
        "print(\"Cohen's Kappa:\", kappa_test)\n",
        "print(\"Accuracy:\", accuracy)"
      ]
    },
    {
      "cell_type": "markdown",
      "metadata": {},
      "source": [
        "Logistic Regression"
      ]
    },
    {
      "cell_type": "code",
      "execution_count": null,
      "metadata": {
        "id": "8yjP60PhrIrl"
      },
      "outputs": [],
      "source": [
        "from sklearn.linear_model import LogisticRegression\n",
        "logisticRegr = LogisticRegression()\n",
        "\n",
        "# Perform cross-validation\n",
        "cv_scores = cross_val_score(logisticRegr, X_combined, y_combined, cv=5, scoring='accuracy')\n",
        "\n",
        "# Print cross-validation scores\n",
        "print(\"Cross-Validation Scores:\", cv_scores)\n",
        "print(\"Mean Accuracy:\", cv_scores.mean())"
      ]
    },
    {
      "cell_type": "code",
      "execution_count": null,
      "metadata": {
        "id": "tOzLve8p9oc4"
      },
      "outputs": [],
      "source": [
        "logisticRegr.fit(X_combined, y_combined)"
      ]
    },
    {
      "cell_type": "code",
      "execution_count": null,
      "metadata": {
        "id": "rabXuuNW9ohT"
      },
      "outputs": [],
      "source": [
        "# Evaluate the model on test data\n",
        "auc_roc_test, sensitivity_test, specificity_test, balanced_accuracy_test, kappa_test, accuracy = evaluate_model(logisticRegr, X_test, y_test)\n",
        "print(\"\\nTest Performance:\")\n",
        "print(\"AUC-ROC:\", auc_roc_test)\n",
        "print(\"Sensitivity:\", sensitivity_test)\n",
        "print(\"Specificity:\", specificity_test)\n",
        "print(\"Balanced Accuracy:\", balanced_accuracy_test)\n",
        "print(\"Cohen's Kappa:\", kappa_test)\n",
        "print(\"Accuracy:\", accuracy)"
      ]
    },
    {
      "cell_type": "markdown",
      "metadata": {},
      "source": [
        "Support Vector Machine (SVM)"
      ]
    },
    {
      "cell_type": "code",
      "execution_count": null,
      "metadata": {
        "id": "IwjZa7Mr-YkQ"
      },
      "outputs": [],
      "source": [
        "from sklearn import svm\n",
        "clf = svm.SVC()\n",
        "# Perform cross-validation\n",
        "cv_scores = cross_val_score(clf, X_combined, y_combined, cv=5, scoring='accuracy')\n",
        "\n",
        "# Print cross-validation scores\n",
        "print(\"Cross-Validation Scores:\", cv_scores)\n",
        "print(\"Mean Accuracy:\", cv_scores.mean())"
      ]
    },
    {
      "cell_type": "code",
      "execution_count": null,
      "metadata": {
        "id": "_vhSig_f-YsT"
      },
      "outputs": [],
      "source": [
        "# Train the model\n",
        "clf.fit(X_combined, y_combined)"
      ]
    },
    {
      "cell_type": "code",
      "execution_count": null,
      "metadata": {
        "id": "2sfKoGooF9H-"
      },
      "outputs": [],
      "source": [
        "# Evaluate the model on test data\n",
        "auc_roc_test, sensitivity_test, specificity_test, balanced_accuracy_test, kappa_test, accuracy = evaluate_model(clf, X_test, y_test)\n",
        "print(\"\\nTest Performance:\")\n",
        "print(\"AUC-ROC:\", auc_roc_test)\n",
        "print(\"Sensitivity:\", sensitivity_test)\n",
        "print(\"Specificity:\", specificity_test)\n",
        "print(\"Balanced Accuracy:\", balanced_accuracy_test)\n",
        "print(\"Cohen's Kappa:\", kappa_test)\n",
        "print(\"Accuracy:\", accuracy)"
      ]
    },
    {
      "cell_type": "markdown",
      "metadata": {},
      "source": [
        "Multilayer Perceptron (MLP) Neural Network"
      ]
    },
    {
      "cell_type": "code",
      "execution_count": null,
      "metadata": {
        "id": "fA9urBgkHhZH"
      },
      "outputs": [],
      "source": [
        "from sklearn.neural_network import MLPClassifier\n",
        "\n",
        "mlp = MLPClassifier(hidden_layer_sizes=(210,800,600,500,100), activation='relu', solver='adam', max_iter=2000)"
      ]
    },
    {
      "cell_type": "code",
      "execution_count": null,
      "metadata": {
        "id": "bj7eX3gEGj1G"
      },
      "outputs": [],
      "source": [
        "mlp.fit(X_combined, y_combined)"
      ]
    },
    {
      "cell_type": "code",
      "execution_count": null,
      "metadata": {
        "id": "bQ_Q-ZrZIHtm"
      },
      "outputs": [],
      "source": [
        "# Evaluate the model on test data\n",
        "auc_roc_test, sensitivity_test, specificity_test, balanced_accuracy_test, kappa_test, accuracy = evaluate_model(mlp, X_test, y_test)\n",
        "print(\"\\nTest Performance:\")\n",
        "print(\"AUC-ROC:\", auc_roc_test)\n",
        "print(\"Sensitivity:\", sensitivity_test)\n",
        "print(\"Specificity:\", specificity_test)\n",
        "print(\"Balanced Accuracy:\", balanced_accuracy_test)\n",
        "print(\"Cohen's Kappa:\", kappa_test)\n",
        "print(\"Accuracy:\", accuracy)"
      ]
    },
    {
      "cell_type": "code",
      "execution_count": null,
      "metadata": {
        "id": "6V8MC7gHG3VP"
      },
      "outputs": [],
      "source": [
        "predict_train = mlp.predict(X_train)\n",
        "predict_test = mlp.predict(X_test)"
      ]
    },
    {
      "cell_type": "code",
      "execution_count": null,
      "metadata": {
        "id": "Q_lkmcg-HHDl"
      },
      "outputs": [],
      "source": [
        "print(confusion_matrix(y_test,predict_test))\n",
        "print(classification_report(y_test,predict_test))"
      ]
    },
    {
      "cell_type": "markdown",
      "metadata": {
        "id": "M58xo8-d_BNB"
      },
      "source": [
        "Graph Neural Network (GNN)"
      ]
    },
    {
      "cell_type": "code",
      "execution_count": null,
      "metadata": {
        "id": "U6bPHl4v_CY1"
      },
      "outputs": [],
      "source": [
        "!pip install torch-scatter -f https://data.pyg.org/whl/torch-1.8.0+cpu.html\n",
        "!pip install torch-sparse -f https://data.pyg.org/whl/torch-1.8.0+cpu.html\n",
        "!pip install torch-cluster -f https://data.pyg.org/whl/torch-1.8.0+cpu.html\n",
        "!pip install torch-spline-conv -f https://data.pyg.org/whl/torch-1.8.0+cpu.html\n",
        "!pip install torch-geometric"
      ]
    },
    {
      "cell_type": "code",
      "execution_count": null,
      "metadata": {
        "id": "LCD8iu6I_e5Q"
      },
      "outputs": [],
      "source": [
        "def feature_gen_permeability(smiles):\n",
        "  mol = Chem.MolFromSmiles(smiles)\n",
        "  descriptors = []\n",
        "  for descriptor_name, function in Descriptors.descList:\n",
        "      descriptors.append(function(mol))\n",
        "  descriptors = np.array(descriptors)\n",
        "  return descriptors"
      ]
    },
    {
      "cell_type": "code",
      "execution_count": null,
      "metadata": {
        "id": "qvZEd_TD_Gn4"
      },
      "outputs": [],
      "source": [
        "from torch_geometric.data import Data\n",
        "import pandas as pd\n",
        "import numpy as np\n",
        "import torch\n",
        "from torch_geometric.nn import GCNConv, global_mean_pool\n",
        "from rdkit import Chem\n",
        "import torch\n",
        "import torch.nn as nn\n",
        "from torch.optim import Adam"
      ]
    },
    {
      "cell_type": "code",
      "execution_count": null,
      "metadata": {
        "id": "Zc6khiTx_IlQ"
      },
      "outputs": [],
      "source": [
        "import torch\n",
        "from torch_geometric.nn import GCNConv, global_mean_pool\n",
        "\n",
        "class GNN(torch.nn.Module):\n",
        "    def __init__(self):\n",
        "        super(GNN, self).__init__()\n",
        "        self.conv1 = GCNConv(1, 30)\n",
        "        self.conv2 = GCNConv(30, 50)\n",
        "        self.fc1 = torch.nn.Linear(50 + 210, 30)\n",
        "        self.fc2 = torch.nn.Linear(30, 2)\n",
        "\n",
        "    def forward(self, data):\n",
        "        x = self.conv1(data.x, data.edge_index)\n",
        "        x = torch.relu(x)\n",
        "        x = self.conv2(x, data.edge_index)\n",
        "        x = torch.relu(x)\n",
        "        x = global_mean_pool(x, data.batch)\n",
        "  \n",
        "        x = torch.cat([x, data.additional_features.unsqueeze(0)], dim=1)\n",
        "        x = self.fc1(x)\n",
        "        x = torch.relu(x)\n",
        "        x = self.fc2(x)\n",
        "        return x"
      ]
    },
    {
      "cell_type": "code",
      "execution_count": null,
      "metadata": {
        "id": "0sb7fH_t_K-f"
      },
      "outputs": [],
      "source": [
        "train_labels = torch.tensor(split['train']['Y'], dtype=torch.long)\n",
        "train_features = []\n",
        "for smiles in split['train']['Drug']:\n",
        "    train_features.append(feature_gen_permeability(smiles))\n",
        "\n",
        "train_data = []\n",
        "for smiles, features in zip(split['train']['Drug'], train_features):\n",
        "    train_data.append(molecule_to_graph(smiles, features))"
      ]
    },
    {
      "cell_type": "code",
      "execution_count": null,
      "metadata": {
        "id": "eox12TAi_NC_"
      },
      "outputs": [],
      "source": [
        "model = GNN()\n",
        "optimizer = Adam(model.parameters(), lr=0.01)\n",
        "criterion = nn.CrossEntropyLoss()"
      ]
    },
    {
      "cell_type": "code",
      "execution_count": null,
      "metadata": {
        "colab": {
          "base_uri": "https://localhost:8080/",
          "height": 1000
        },
        "id": "bwM0zzqU_OAA",
        "outputId": "2d22c8ba-f0d6-4aae-a8b3-7abc829fe058"
      },
      "outputs": [
        {
          "name": "stdout",
          "output_type": "stream",
          "text": [
            "0 19199.717566552783\n",
            "1 0.5914562727596736\n",
            "2 0.3915011842599076\n",
            "3 0.3912443623857133\n",
            "4 0.3912185822676323\n",
            "5 0.39121232916381254\n",
            "6 0.3912108046096865\n",
            "7 0.39121041776549614\n",
            "8 0.3912103354690199\n",
            "9 0.39121031479156587\n",
            "10 0.3912103093919878\n",
            "11 0.3912103095908095\n",
            "12 0.39121030711600285\n",
            "13 0.39121030508069676\n",
            "14 0.3912103050963932\n",
            "15 0.3912103069433419\n",
            "16 0.3912103069433419\n",
            "17 0.3912103069433419\n",
            "18 0.3912103069433419\n",
            "19 0.3912103069433419\n",
            "20 0.3912103069433419\n",
            "21 0.3912103069433419\n",
            "22 0.3912103069433419\n",
            "23 0.3912103069433419\n",
            "24 0.3912103069433419\n",
            "25 0.3912103069433419\n",
            "26 0.3912103069433419\n",
            "27 0.3912103069433419\n",
            "28 0.3912103069433419\n",
            "29 0.3912103069433419\n",
            "30 0.3912103069433419\n",
            "31 0.3912103069433419\n",
            "32 0.3912103069433419\n",
            "33 0.3912103069433419\n",
            "34 0.3912103069433419\n",
            "35 0.3912103069433419\n",
            "36 0.3912103069433419\n",
            "37 0.3912103069433419\n",
            "38 0.3912103069433419\n",
            "39 0.3912103069433419\n",
            "40 0.3912103069433419\n",
            "41 0.3912103069433419\n",
            "42 0.3912103069433419\n",
            "43 0.3912103069433419\n",
            "44 0.3912103069433419\n",
            "45 0.3912103069433419\n",
            "46 0.3912103069433419\n",
            "47 0.3912103069433419\n",
            "48 0.3912103069433419\n",
            "49 0.3912103069433419\n",
            "50 0.3912103069433419\n",
            "51 0.3912103069433419\n",
            "52 0.3912103069433419\n",
            "53 0.3912103069433419\n",
            "54 0.3912103069433419\n",
            "55 0.3912103069433419\n",
            "56 0.3912103069433419\n",
            "57 0.3912103069433419\n",
            "58 0.3912103069433419\n",
            "59 0.3912103069433419\n",
            "60 0.3912103069433419\n",
            "61 0.3912103069433419\n",
            "62 0.3912103069433419\n",
            "63 0.3912103069433419\n",
            "64 0.3912103069433419\n",
            "65 0.3912103069433419\n",
            "66 0.3912103069433419\n",
            "67 0.3912103069433419\n",
            "68 0.3912103069433419\n",
            "69 0.3912103069433419\n",
            "70 0.3912103069433419\n",
            "71 0.3912103069433419\n",
            "72 0.3912103069433419\n",
            "73 0.3912103069433419\n",
            "74 0.3912103069433419\n",
            "75 0.3912103069433419\n",
            "76 0.3912103069433419\n",
            "77 0.3912103069433419\n",
            "78 0.3912103069433419\n",
            "79 0.3912103069433419\n",
            "80 0.3912103069433419\n",
            "81 0.3912103069433419\n",
            "82 0.3912103069433419\n",
            "83 0.3912103069433419\n",
            "84 0.3912103069433419\n",
            "85 0.3912103069433419\n",
            "86 0.3912103069433419\n",
            "87 0.3912103069433419\n",
            "88 0.3912103069433419\n",
            "89 0.3912103069433419\n",
            "90 0.3912103069433419\n",
            "91 0.3912103069433419\n",
            "92 0.3912103069433419\n",
            "93 0.3912103069433419\n",
            "94 0.3912103069433419\n",
            "95 0.3912103069433419\n",
            "96 0.3912103069433419\n",
            "97 0.3912103069433419\n",
            "98 0.3912103069433419\n",
            "99 0.3912103069433419\n",
            "100 0.3912103069433419\n",
            "101 0.3912103069433419\n",
            "102 0.3912103069433419\n",
            "103 0.3912103069433419\n",
            "104 0.3912103069433419\n",
            "105 0.3912103069433419\n",
            "106 0.3912103069433419\n",
            "107 0.3912103069433419\n",
            "108 0.3912103069433419\n",
            "109 0.3912103069433419\n",
            "110 0.3912103069433419\n",
            "111 0.3912103069433419\n",
            "112 0.3912103069433419\n",
            "113 0.3912103069433419\n",
            "114 0.3912103069433419\n",
            "115 0.3912103069433419\n",
            "116 0.3912103069433419\n",
            "117 0.3912103069433419\n",
            "118 0.3912103069433419\n",
            "119 0.3912103069433419\n",
            "120 0.3912103069433419\n",
            "121 0.3912103069433419\n",
            "122 0.3912103069433419\n",
            "123 0.3912103069433419\n",
            "124 0.3912103069433419\n",
            "125 0.3912103069433419\n",
            "126 0.3912103069433419\n",
            "127 0.3912103069433419\n",
            "128 0.3912103069433419\n",
            "129 0.3912103069433419\n",
            "130 0.3912103069433419\n",
            "131 0.3912103069433419\n",
            "132 0.3912103069433419\n",
            "133 0.3912103069433419\n",
            "134 0.3912103069433419\n",
            "135 0.3912103069433419\n",
            "136 0.3912103069433419\n",
            "137 0.3912103069433419\n",
            "138 0.3912103069433419\n",
            "139 0.3912103069433419\n",
            "140 0.3912103069433419\n",
            "141 0.3912103069433419\n",
            "142 0.3912103069433419\n",
            "143 0.3912103069433419\n",
            "144 0.3912103069433419\n",
            "145 0.3912103069433419\n",
            "146 0.3912103069433419\n",
            "147 0.3912103069433419\n",
            "148 0.3912103069433419\n",
            "149 0.3912103069433419\n",
            "150 0.3912103069433419\n",
            "151 0.3912103069433419\n",
            "152 0.3912103069433419\n",
            "153 0.3912103069433419\n",
            "154 0.3912103069433419\n",
            "155 0.3912103069433419\n",
            "156 0.3912103069433419\n",
            "157 0.3912103069433419\n",
            "158 0.3912103069433419\n",
            "159 0.3912103069433419\n",
            "160 0.3912103069433419\n",
            "161 0.3912103069433419\n",
            "162 0.3912103069433419\n",
            "163 0.3912103069433419\n",
            "164 0.3912103069433419\n",
            "165 0.3912103069433419\n",
            "166 0.3912103069433419\n",
            "167 0.3912103069433419\n",
            "168 0.3912103069433419\n",
            "169 0.3912103069433419\n",
            "170 0.3912103069433419\n",
            "171 0.3912103069433419\n",
            "172 0.3912103069433419\n",
            "173 0.3912103069433419\n",
            "174 0.3912103069433419\n",
            "175 0.3912103069433419\n",
            "176 0.3912103069433419\n",
            "177 0.3912103069433419\n",
            "178 0.3912103069433419\n",
            "179 0.3912103069433419\n",
            "180 0.3912103069433419\n",
            "181 0.3912103069433419\n",
            "182 0.3912103069433419\n",
            "183 0.3912103069433419\n",
            "184 0.3912103069433419\n",
            "185 0.3912103069433419\n",
            "186 0.3912103069433419\n",
            "187 0.3912103069433419\n",
            "188 0.3912103069433419\n",
            "189 0.3912103069433419\n",
            "190 0.3912103069433419\n",
            "191 0.3912103069433419\n",
            "192 0.3912103069433419\n",
            "193 0.3912103069433419\n",
            "194 0.3912103069433419\n",
            "195 0.3912103069433419\n",
            "196 0.3912103069433419\n",
            "197 0.3912103069433419\n",
            "198 0.3912103069433419\n",
            "199 0.3912103069433419\n",
            "200 0.3912103069433419\n",
            "201 0.3912103069433419\n",
            "202 0.3912103069433419\n",
            "203 0.3912103069433419\n",
            "204 0.3912103069433419\n",
            "205 0.3912103069433419\n",
            "206 0.3912103069433419\n",
            "207 0.3912103069433419\n",
            "208 0.3912103069433419\n",
            "209 0.3912103069433419\n",
            "210 0.3912103069433419\n",
            "211 0.3912103069433419\n",
            "212 0.3912103069433419\n",
            "213 0.3912103069433419\n",
            "214 0.3912103069433419\n",
            "215 0.3912103069433419\n",
            "216 0.3912103069433419\n",
            "217 0.3912103069433419\n",
            "218 0.3912103069433419\n",
            "219 0.3912103069433419\n",
            "220 0.3912103069433419\n",
            "221 0.3912103069433419\n",
            "222 0.3912103069433419\n",
            "223 0.3912103069433419\n",
            "224 0.3912103069433419\n",
            "225 0.3912103069433419\n",
            "226 0.3912103069433419\n",
            "227 0.3912103069433419\n",
            "228 0.3912103069433419\n",
            "229 0.3912103069433419\n",
            "230 0.3912103069433419\n",
            "231 0.3912103069433419\n",
            "232 0.3912103069433419\n",
            "233 0.3912103069433419\n",
            "234 0.3912103069433419\n",
            "235 0.3912103069433419\n",
            "236 0.3912103069433419\n",
            "237 0.3912103069433419\n",
            "238 0.3912103069433419\n",
            "239 0.3912103069433419\n",
            "240 0.3912103069433419\n",
            "241 0.3912103069433419\n",
            "242 0.3912103069433419\n",
            "243 0.3912103069433419\n",
            "244 0.3912103069433419\n",
            "245 0.3912103069433419\n",
            "246 0.3912103069433419\n",
            "247 0.3912103069433419\n",
            "248 0.3912103069433419\n",
            "249 0.3912103069433419\n",
            "250 0.3912103069433419\n",
            "251 0.3912103069433419\n",
            "252 0.3912103069433419\n",
            "253 0.3912103069433419\n",
            "254 0.3912103069433419\n",
            "255 0.3912103069433419\n",
            "256 0.3912103069433419\n",
            "257 0.3912103069433419\n",
            "258 0.3912103069433419\n",
            "259 0.3912103069433419\n",
            "260 0.3912103069433419\n",
            "261 0.3912103069433419\n",
            "262 0.3912103069433419\n",
            "263 0.3912103069433419\n",
            "264 0.3912103069433419\n",
            "265 0.3912103069433419\n",
            "266 0.3912103069433419\n",
            "267 0.3912103069433419\n",
            "268 0.3912103069433419\n",
            "269 0.3912103069433419\n",
            "270 0.3912103069433419\n",
            "271 0.3912103069433419\n",
            "272 0.3912103069433419\n",
            "273 0.3912103069433419\n",
            "274 0.3912103069433419\n",
            "275 0.3912103069433419\n",
            "276 0.3912103069433419\n",
            "277 0.3912103069433419\n",
            "278 0.3912103069433419\n",
            "279 0.3912103069433419\n",
            "280 0.3912103069433419\n",
            "281 0.3912103069433419\n",
            "282 0.3912103069433419\n",
            "283 0.3912103069433419\n",
            "284 0.3912103069433419\n",
            "285 0.3912103069433419\n",
            "286 0.3912103069433419\n",
            "287 0.3912103069433419\n",
            "288 0.3912103069433419\n",
            "289 0.3912103069433419\n",
            "290 0.3912103069433419\n",
            "291 0.3912103069433419\n",
            "292 0.3912103069433419\n",
            "293 0.3912103069433419\n",
            "294 0.3912103069433419\n",
            "295 0.3912103069433419\n",
            "296 0.3912103069433419\n",
            "297 0.3912103069433419\n",
            "298 0.3912103069433419\n",
            "299 0.3912103069433419\n",
            "300 0.3912103069433419\n",
            "301 0.3912103069433419\n",
            "302 0.3912103069433419\n",
            "303 0.3912103069433419\n",
            "304 0.3912103069433419\n",
            "305 0.3912103069433419\n",
            "306 0.3912103069433419\n",
            "307 0.3912103069433419\n",
            "308 0.3912103069433419\n",
            "309 0.3912103069433419\n",
            "310 0.3912103069433419\n",
            "311 0.3912103069433419\n",
            "312 0.3912103069433419\n",
            "313 0.3912103069433419\n",
            "314 0.3912103069433419\n",
            "315 0.3912103069433419\n",
            "316 0.3912103069433419\n",
            "317 0.3912103069433419\n",
            "318 0.3912103069433419\n",
            "319 0.3912103069433419\n",
            "320 0.3912103069433419\n",
            "321 0.3912103069433419\n",
            "322 0.3912103069433419\n",
            "323 0.3912103069433419\n",
            "324 0.3912103069433419\n",
            "325 0.3912103069433419\n",
            "326 0.3912103069433419\n",
            "327 0.3912103069433419\n",
            "328 0.3912103069433419\n",
            "329 0.3912103069433419\n",
            "330 0.3912103069433419\n",
            "331 0.3912103069433419\n",
            "332 0.3912103069433419\n",
            "333 0.3912103069433419\n",
            "334 0.3912103069433419\n",
            "335 0.3912103069433419\n",
            "336 0.3912103069433419\n",
            "337 0.3912103069433419\n",
            "338 0.3912103069433419\n",
            "339 0.3912103069433419\n",
            "340 0.3912103069433419\n",
            "341 0.3912103069433419\n",
            "342 0.3912103069433419\n",
            "343 0.3912103069433419\n",
            "344 0.3912103069433419\n",
            "345 0.3912103069433419\n",
            "346 0.3912103069433419\n",
            "347 0.3912103069433419\n",
            "348 0.3912103069433419\n",
            "349 0.3912103069433419\n",
            "350 0.3912103069433419\n",
            "351 0.3912103069433419\n",
            "352 0.3912103069433419\n",
            "353 0.3912103069433419\n",
            "354 0.3912103069433419\n",
            "355 0.3912103069433419\n",
            "356 0.3912103069433419\n",
            "357 0.3912103069433419\n",
            "358 0.3912103069433419\n",
            "359 0.3912103069433419\n",
            "360 0.3912103069433419\n",
            "361 0.3912103069433419\n",
            "362 0.3912103069433419\n",
            "363 0.3912103069433419\n",
            "364 0.3912103069433419\n",
            "365 0.3912103069433419\n",
            "366 0.3912103069433419\n",
            "367 0.3912103069433419\n",
            "368 0.3912103069433419\n",
            "369 0.3912103069433419\n",
            "370 0.3912103069433419\n",
            "371 0.3912103069433419\n",
            "372 0.3912103069433419\n",
            "373 0.3912103069433419\n",
            "374 0.3912103069433419\n",
            "375 0.3912103069433419\n",
            "376 0.3912103069433419\n",
            "377 0.3912103069433419\n",
            "378 0.3912103069433419\n",
            "379 0.3912103069433419\n",
            "380 0.3912103069433419\n",
            "381 0.3912103069433419\n",
            "382 0.3912103069433419\n",
            "383 0.3912103069433419\n",
            "384 0.3912103069433419\n",
            "385 0.3912103069433419\n",
            "386 0.3912103069433419\n",
            "387 0.3912103069433419\n",
            "388 0.3912103069433419\n",
            "389 0.3912103069433419\n",
            "390 0.3912103069433419\n",
            "391 0.3912103069433419\n",
            "392 0.3912103069433419\n",
            "393 0.3912103069433419\n",
            "394 0.3912103069433419\n",
            "395 0.3912103069433419\n",
            "396 0.3912103069433419\n",
            "397 0.3912103069433419\n",
            "398 0.3912103069433419\n",
            "399 0.3912103069433419\n",
            "400 0.3912103069433419\n",
            "401 0.3912103069433419\n",
            "402 0.3912103069433419\n",
            "403 0.3912103069433419\n",
            "404 0.3912103069433419\n",
            "405 0.3912103069433419\n",
            "406 0.3912103069433419\n",
            "407 0.3912103069433419\n",
            "408 0.3912103069433419\n",
            "409 0.3912103069433419\n",
            "410 0.3912103069433419\n",
            "411 0.3912103069433419\n",
            "412 0.3912103069433419\n",
            "413 0.3912103069433419\n",
            "414 0.3912103069433419\n",
            "415 0.3912103069433419\n",
            "416 0.3912103069433419\n",
            "417 0.3912103069433419\n",
            "418 0.3912103069433419\n",
            "419 0.3912103069433419\n",
            "420 0.3912103069433419\n",
            "421 0.3912103069433419\n",
            "422 0.3912103069433419\n",
            "423 0.3912103069433419\n",
            "424 0.3912103069433419\n",
            "425 0.3912103069433419\n",
            "426 0.3912103069433419\n",
            "427 0.3912103069433419\n",
            "428 0.3912103069433419\n",
            "429 0.3912103069433419\n",
            "430 0.3912103069433419\n",
            "431 0.3912103069433419\n",
            "432 0.3912103069433419\n",
            "433 0.3912103069433419\n",
            "434 0.3912103069433419\n",
            "435 0.3912103069433419\n",
            "436 0.3912103069433419\n",
            "437 0.3912103069433419\n",
            "438 0.3912103069433419\n",
            "439 0.3912103069433419\n",
            "440 0.3912103069433419\n",
            "441 0.3912103069433419\n",
            "442 0.3912103069433419\n",
            "443 0.3912103069433419\n",
            "444 0.3912103069433419\n",
            "445 0.3912103069433419\n"
          ]
        },
        {
          "ename": "KeyboardInterrupt",
          "evalue": "",
          "output_type": "error",
          "traceback": [
            "\u001b[0;31m---------------------------------------------------------------------------\u001b[0m",
            "\u001b[0;31mKeyboardInterrupt\u001b[0m                         Traceback (most recent call last)",
            "\u001b[0;32m<ipython-input-76-540920a247f6>\u001b[0m in \u001b[0;36m<cell line: 1>\u001b[0;34m()\u001b[0m\n\u001b[1;32m      6\u001b[0m         \u001b[0moutput\u001b[0m \u001b[0;34m=\u001b[0m \u001b[0mmodel\u001b[0m\u001b[0;34m(\u001b[0m\u001b[0mdata\u001b[0m\u001b[0;34m)\u001b[0m\u001b[0;34m\u001b[0m\u001b[0;34m\u001b[0m\u001b[0m\n\u001b[1;32m      7\u001b[0m         \u001b[0mlabel\u001b[0m \u001b[0;34m=\u001b[0m \u001b[0mtorch\u001b[0m\u001b[0;34m.\u001b[0m\u001b[0mtensor\u001b[0m\u001b[0;34m(\u001b[0m\u001b[0;34m[\u001b[0m\u001b[0mlabel\u001b[0m\u001b[0;34m]\u001b[0m\u001b[0;34m,\u001b[0m \u001b[0mdtype\u001b[0m\u001b[0;34m=\u001b[0m\u001b[0mtorch\u001b[0m\u001b[0;34m.\u001b[0m\u001b[0mlong\u001b[0m\u001b[0;34m)\u001b[0m\u001b[0;34m\u001b[0m\u001b[0;34m\u001b[0m\u001b[0m\n\u001b[0;32m----> 8\u001b[0;31m         \u001b[0mloss\u001b[0m \u001b[0;34m=\u001b[0m \u001b[0mcriterion\u001b[0m\u001b[0;34m(\u001b[0m\u001b[0moutput\u001b[0m\u001b[0;34m,\u001b[0m \u001b[0mlabel\u001b[0m\u001b[0;34m)\u001b[0m\u001b[0;34m\u001b[0m\u001b[0;34m\u001b[0m\u001b[0m\n\u001b[0m\u001b[1;32m      9\u001b[0m         \u001b[0mloss\u001b[0m\u001b[0;34m.\u001b[0m\u001b[0mbackward\u001b[0m\u001b[0;34m(\u001b[0m\u001b[0;34m)\u001b[0m\u001b[0;34m\u001b[0m\u001b[0;34m\u001b[0m\u001b[0m\n\u001b[1;32m     10\u001b[0m         \u001b[0moptimizer\u001b[0m\u001b[0;34m.\u001b[0m\u001b[0mstep\u001b[0m\u001b[0;34m(\u001b[0m\u001b[0;34m)\u001b[0m\u001b[0;34m\u001b[0m\u001b[0;34m\u001b[0m\u001b[0m\n",
            "\u001b[0;32m/usr/local/lib/python3.10/dist-packages/torch/nn/modules/module.py\u001b[0m in \u001b[0;36m_wrapped_call_impl\u001b[0;34m(self, *args, **kwargs)\u001b[0m\n\u001b[1;32m   1509\u001b[0m             \u001b[0;32mreturn\u001b[0m \u001b[0mself\u001b[0m\u001b[0;34m.\u001b[0m\u001b[0m_compiled_call_impl\u001b[0m\u001b[0;34m(\u001b[0m\u001b[0;34m*\u001b[0m\u001b[0margs\u001b[0m\u001b[0;34m,\u001b[0m \u001b[0;34m**\u001b[0m\u001b[0mkwargs\u001b[0m\u001b[0;34m)\u001b[0m  \u001b[0;31m# type: ignore[misc]\u001b[0m\u001b[0;34m\u001b[0m\u001b[0;34m\u001b[0m\u001b[0m\n\u001b[1;32m   1510\u001b[0m         \u001b[0;32melse\u001b[0m\u001b[0;34m:\u001b[0m\u001b[0;34m\u001b[0m\u001b[0;34m\u001b[0m\u001b[0m\n\u001b[0;32m-> 1511\u001b[0;31m             \u001b[0;32mreturn\u001b[0m \u001b[0mself\u001b[0m\u001b[0;34m.\u001b[0m\u001b[0m_call_impl\u001b[0m\u001b[0;34m(\u001b[0m\u001b[0;34m*\u001b[0m\u001b[0margs\u001b[0m\u001b[0;34m,\u001b[0m \u001b[0;34m**\u001b[0m\u001b[0mkwargs\u001b[0m\u001b[0;34m)\u001b[0m\u001b[0;34m\u001b[0m\u001b[0;34m\u001b[0m\u001b[0m\n\u001b[0m\u001b[1;32m   1512\u001b[0m \u001b[0;34m\u001b[0m\u001b[0m\n\u001b[1;32m   1513\u001b[0m     \u001b[0;32mdef\u001b[0m \u001b[0m_call_impl\u001b[0m\u001b[0;34m(\u001b[0m\u001b[0mself\u001b[0m\u001b[0;34m,\u001b[0m \u001b[0;34m*\u001b[0m\u001b[0margs\u001b[0m\u001b[0;34m,\u001b[0m \u001b[0;34m**\u001b[0m\u001b[0mkwargs\u001b[0m\u001b[0;34m)\u001b[0m\u001b[0;34m:\u001b[0m\u001b[0;34m\u001b[0m\u001b[0;34m\u001b[0m\u001b[0m\n",
            "\u001b[0;31mKeyboardInterrupt\u001b[0m: "
          ]
        }
      ],
      "source": [
        "for epoch in range(1000):\n",
        "    model.train()\n",
        "    total_loss = 0\n",
        "    for data, label in zip(train_data, train_labels):\n",
        "        optimizer.zero_grad()\n",
        "        output = model(data)\n",
        "        label = torch.tensor([label], dtype=torch.long)\n",
        "        loss = criterion(output, label)\n",
        "        loss.backward()\n",
        "        optimizer.step()\n",
        "        total_loss += loss.item()\n",
        "    average_loss = total_loss / len(train_data)\n",
        "    print(epoch, average_loss)"
      ]
    },
    {
      "cell_type": "code",
      "execution_count": null,
      "metadata": {
        "id": "1cxTE6Bs_RA1"
      },
      "outputs": [],
      "source": [
        "test_labels = torch.tensor(split['test']['Y'], dtype=torch.long)\n",
        "test_features = []\n",
        "for smiles in split['test']['Drug']:\n",
        "    test_features.append(feature_gen_permeability(smiles))\n",
        "\n",
        "test_data = []\n",
        "for smiles, features in zip(split['test']['Drug'], test_features):\n",
        "    test_data.append(molecule_to_graph(smiles, features))"
      ]
    },
    {
      "cell_type": "code",
      "execution_count": null,
      "metadata": {
        "id": "y37-7bid_Uya"
      },
      "outputs": [],
      "source": [
        "model.eval()\n",
        "predictions = []\n",
        "\n",
        "with torch.no_grad():\n",
        "    for data in test_data:\n",
        "        output = model(data)\n",
        "        predictions.append(output.argmax(dim=1))"
      ]
    },
    {
      "cell_type": "code",
      "execution_count": null,
      "metadata": {
        "colab": {
          "base_uri": "https://localhost:8080/"
        },
        "id": "c9kbXEmf_Vik",
        "outputId": "b3cdb398-c85d-4522-d3f5-1064ceeb29a5"
      },
      "outputs": [
        {
          "name": "stdout",
          "output_type": "stream",
          "text": [
            "accuracy: 0.8452088452088452\n",
            "precision: 0.8452088452088452\n",
            "recall: 1.0\n",
            "f1: 0.9161118508655127\n"
          ]
        }
      ],
      "source": [
        "from sklearn.metrics import precision_score, recall_score, f1_score, accuracy_score\n",
        "\n",
        "# Calculate metrics\n",
        "precision = precision_score(test_labels, predictions)\n",
        "recall = recall_score(test_labels, predictions)\n",
        "f1 = f1_score(test_labels, predictions)\n",
        "accuracy = accuracy_score(test_labels, predictions)\n",
        "\n",
        "print(\"accuracy:\", accuracy)\n",
        "print(\"precision:\", precision)\n",
        "print(\"recall:\", recall)\n",
        "print(\"f1:\", f1)"
      ]
    },
    {
      "cell_type": "code",
      "execution_count": null,
      "metadata": {
        "id": "4eVe6rWahYMy"
      },
      "outputs": [],
      "source": [
        "def evaluate_model_gnn(model, X, y_pred):\n",
        "    y = split['test']['Y']\n",
        "    auc_roc = roc_auc_score(y, y_pred)\n",
        "    tn, fp, fn, tp = confusion_matrix(y, y_pred).ravel()\n",
        "    sensitivity = tp / (tp + fn)\n",
        "    specificity = tn / (tn + fp)\n",
        "    balanced_accuracy = (sensitivity + specificity) / 2\n",
        "    kappa = cohen_kappa_score(y, y_pred)\n",
        "    accuracy = accuracy_score(y, y_pred)\n",
        "\n",
        "    return auc_roc, sensitivity, specificity, balanced_accuracy, kappa, accuracy"
      ]
    },
    {
      "cell_type": "code",
      "execution_count": null,
      "metadata": {
        "colab": {
          "base_uri": "https://localhost:8080/"
        },
        "id": "lWVCcDfugxcF",
        "outputId": "f22c37f4-5e30-4222-97eb-0809a3bd50b5"
      },
      "outputs": [
        {
          "name": "stdout",
          "output_type": "stream",
          "text": [
            "\n",
            "Test Performance:\n",
            "AUC-ROC: 0.5\n",
            "Sensitivity: 1.0\n",
            "Specificity: 0.0\n",
            "Balanced Accuracy: 0.5\n",
            "Cohen's Kappa: 0.0\n",
            "Accuracy: 0.8452088452088452\n"
          ]
        }
      ],
      "source": [
        "# Evaluate the model on test data\n",
        "from sklearn.metrics import roc_auc_score, confusion_matrix, cohen_kappa_score, accuracy_score\n",
        "from sklearn.metrics import precision_score, recall_score, f1_score\n",
        "\n",
        "auc_roc_test, sensitivity_test, specificity_test, balanced_accuracy_test, kappa_test, accuracy = evaluate_model_gnn(model, test_labels, predictions)\n",
        "print(\"\\nTest Performance:\")\n",
        "print(\"AUC-ROC:\", auc_roc_test)\n",
        "print(\"Sensitivity:\", sensitivity_test)\n",
        "print(\"Specificity:\", specificity_test)\n",
        "print(\"Balanced Accuracy:\", balanced_accuracy_test)\n",
        "print(\"Cohen's Kappa:\", kappa_test)\n",
        "print(\"Accuracy:\", accuracy)"
      ]
    }
  ],
  "metadata": {
    "accelerator": "GPU",
    "colab": {
      "gpuType": "T4",
      "provenance": []
    },
    "kernelspec": {
      "display_name": "Python 3",
      "name": "python3"
    },
    "language_info": {
      "name": "python"
    }
  },
  "nbformat": 4,
  "nbformat_minor": 0
}
